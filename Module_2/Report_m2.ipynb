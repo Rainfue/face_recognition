{
 "cells": [
  {
   "cell_type": "markdown",
   "metadata": {},
   "source": [
    "# Модуль Б. Разработка модели машинного обучения"
   ]
  },
  {
   "cell_type": "markdown",
   "metadata": {},
   "source": [
    "## Импортирование библиотек"
   ]
  },
  {
   "cell_type": "code",
   "execution_count": 1,
   "metadata": {},
   "outputs": [],
   "source": [
    "# библиотека с предобученной моделью YOLO\n",
    "from ultralytics import YOLO\n",
    "\n",
    "# библиотека для работы с регулярными выражениями\n",
    "import re\n",
    "\n",
    "# библиотеки для работы с изображениями\n",
    "import cv2\n",
    "from PIL import Image\n",
    "import matplotlib.pyplot as plt"
   ]
  },
  {
   "cell_type": "markdown",
   "metadata": {},
   "source": [
    "**Основная задача нейронной сети - `определение и распознавание человеческих лиц на фотографии`. Для того чтобы решить эту задачу, нужно реализовать 2 модели:**\n",
    "- Модель детекции лица\n",
    "- Модель распознавания лица"
   ]
  },
  {
   "cell_type": "markdown",
   "metadata": {},
   "source": [
    "## Модель детекции"
   ]
  },
  {
   "cell_type": "markdown",
   "metadata": {},
   "source": [
    "Существуют несльколько различных предобученных моделей детекции, такие как:\n",
    "- `EfficientNet`\n",
    "- `ResNet`\n",
    "- `YOLO`\n",
    "- и многие другие\n",
    "\n",
    "**В качестве модели для своей задачи, я буду использовать предобученную модель `YOLOv8n` (где n - nano) - это легкая и достаточно точная модель, которая способна решать задачи `детекции`, а так же в качестве улучшенной версии можно использовать `YOLOv8s` (где s - small), как более мощную модель**"
   ]
  },
  {
   "cell_type": "markdown",
   "metadata": {},
   "source": [
    "Для начала, надо загрузить сам предобученную модель в формате `.pt`"
   ]
  },
  {
   "cell_type": "markdown",
   "metadata": {},
   "source": [
    "**Структура модели `YOLOv8n` (3.2M):**\n",
    "\n",
    "- task=detect \n",
    "- mode=train \n",
    "- model=yolov8n.pt \n",
    "- data=D:\\Helper\\MLBazyak\\homework\\06_01\\06_01_hw\\data.yaml \n",
    "- epochs=3 \n",
    "- time=None \n",
    "- patience=100 \n",
    "- batch=8 \n",
    "- imgsz=640 \n",
    "- save=True \n",
    "- save_period=-1 \n",
    "- cache=False \n",
    "- device=None \n",
    "- workers=8 \n",
    "- project=None \n",
    "- name=price_detection_v3 \n",
    "- exist_ok=False \n",
    "- pretrained=True \n",
    "- optimizer=auto \n",
    "- verbose=True \n",
    "- seed=0 \n",
    "- deterministic=True \n",
    "- single_cls=False \n",
    "- rect=False \n",
    "- cos_lr=True \n",
    "- close_mosaic=10 \n",
    "- resume=False \n",
    "- amp=True \n",
    "- fraction=1.0 \n",
    "- profile=False \n",
    "- freeze=None \n",
    "- multi_scale=False \n",
    "- overlap_mask=True \n",
    "- mask_ratio=4 \n",
    "- dropout=0.0 \n",
    "- val=True \n",
    "- split=val \n",
    "- save_json=False \n",
    "- save_hybrid=False \n",
    "- conf=None  \n",
    "- iou=0.7 \n",
    "- max_det=300 \n",
    "- half=False \n",
    "- dnn=False \n",
    "- plots=True \n",
    "- source=None \n",
    "- vid_stride=1 \n",
    "- stream_buffer=False \n",
    "- visualize=False \n",
    "- augment=False \n",
    "- agnostic_nms=False \n",
    "- classes=None \n",
    "- retina_masks=False \n",
    "- embed=None \n",
    "- show=False \n",
    "- save_frames=False \n",
    "- save_txt=False \n",
    "- save_conf=False \n",
    "- save_crop=False \n",
    "- show_labels=True \n",
    "- show_conf=True \n",
    "- show_boxes=True \n",
    "- line_width=None \n",
    "- format=torchscript \n",
    "- keras=False \n",
    "- optimize=False \n",
    "- int8=False \n",
    "- dynamic=False \n",
    "- simplify=True \n",
    "- opset=None \n",
    "- workspace=None \n",
    "- nms=False \n",
    "- lr0=0.01 \n",
    "- lrf=0.01 \n",
    "- momentum=0.937 \n",
    "- weight_decay=0.0005 \n",
    "- warmup_epochs=3.0 \n",
    "- warmup_momentum=0.8 \n",
    "- warmup_bias_lr=0.1 \n",
    "- box=7.5 \n",
    "- cls=0.5 \n",
    "- dfl=1.5 \n",
    "- pose=12.0 \n",
    "- kobj=1.0 \n",
    "- nbs=64 \n",
    "- hsv_h=0.015 \n",
    "- hsv_s=0.7 \n",
    "- hsv_v=0.4 \n",
    "- degrees=0.0 \n",
    "- translate=0.1 \n",
    "- scale=0.5 \n",
    "- shear=0.0 \n",
    "- perspective=0.0 \n",
    "- flipud=0.0 \n",
    "- fliplr=0.5 \n",
    "- bgr=0.0 \n",
    "- mosaic=1.0 \n",
    "- mixup=0.0 \n",
    "- copy_paste=0.0 \n",
    "- copy_paste_mode=flip \n",
    "- auto_augment=randaugment \n",
    "- erasing=0.4 \n",
    "- crop_fraction=1.0 \n",
    "- cfg=None \n",
    "- tracker=botsort.yaml \n",
    "- save_dir=runs\\detect\\price_detection_v3"
   ]
  },
  {
   "cell_type": "code",
   "execution_count": 2,
   "metadata": {},
   "outputs": [
    {
     "name": "stdout",
     "output_type": "stream",
     "text": [
      "Downloading https://github.com/ultralytics/assets/releases/download/v8.3.0/yolov8n.pt to 'yolov8n.pt'...\n"
     ]
    },
    {
     "name": "stderr",
     "output_type": "stream",
     "text": [
      "100%|██████████| 6.25M/6.25M [00:01<00:00, 3.60MB/s]\n"
     ]
    }
   ],
   "source": [
    "# инициализируем модель YOLOv8 nano\n",
    "model = YOLO('yolov8n.pt') "
   ]
  },
  {
   "cell_type": "markdown",
   "metadata": {},
   "source": [
    "*Для начала, попробую обучить модель на 3х эпохах*"
   ]
  },
  {
   "cell_type": "code",
   "execution_count": 3,
   "metadata": {},
   "outputs": [
    {
     "name": "stdout",
     "output_type": "stream",
     "text": [
      "New https://pypi.org/project/ultralytics/8.3.65 available  Update with 'pip install -U ultralytics'\n",
      "Ultralytics 8.3.61  Python-3.11.9 torch-2.5.1+cpu CPU (11th Gen Intel Core(TM) i5-1135G7 2.40GHz)\n",
      "\u001b[34m\u001b[1mengine\\trainer: \u001b[0mtask=detect, mode=train, model=yolov8n.pt, data=D:\\Helper\\MLBazyak\\homework\\face_recognition\\Module_2\\data.yaml, epochs=2, time=None, patience=100, batch=8, imgsz=1024, save=True, save_period=-1, cache=False, device=None, workers=8, project=None, name=face_detection_v1, exist_ok=False, pretrained=True, optimizer=auto, verbose=True, seed=0, deterministic=True, single_cls=False, rect=False, cos_lr=True, close_mosaic=10, resume=False, amp=True, fraction=1.0, profile=False, freeze=None, multi_scale=False, overlap_mask=True, mask_ratio=4, dropout=0.0, val=True, split=val, save_json=False, save_hybrid=False, conf=None, iou=0.7, max_det=300, half=False, dnn=False, plots=True, source=None, vid_stride=1, stream_buffer=False, visualize=False, augment=False, agnostic_nms=False, classes=None, retina_masks=False, embed=None, show=False, save_frames=False, save_txt=False, save_conf=False, save_crop=False, show_labels=True, show_conf=True, show_boxes=True, line_width=None, format=torchscript, keras=False, optimize=False, int8=False, dynamic=False, simplify=True, opset=None, workspace=None, nms=False, lr0=0.01, lrf=0.01, momentum=0.937, weight_decay=0.0005, warmup_epochs=3.0, warmup_momentum=0.8, warmup_bias_lr=0.1, box=7.5, cls=0.5, dfl=1.5, pose=12.0, kobj=1.0, nbs=64, hsv_h=0.015, hsv_s=0.7, hsv_v=0.4, degrees=0.0, translate=0.1, scale=0.5, shear=0.0, perspective=0.0, flipud=0.0, fliplr=0.5, bgr=0.0, mosaic=1.0, mixup=0.0, copy_paste=0.0, copy_paste_mode=flip, auto_augment=randaugment, erasing=0.4, crop_fraction=1.0, cfg=None, tracker=botsort.yaml, save_dir=runs\\detect\\face_detection_v1\n",
      "Overriding model.yaml nc=80 with nc=1\n",
      "\n",
      "                   from  n    params  module                                       arguments                     \n",
      "  0                  -1  1       464  ultralytics.nn.modules.conv.Conv             [3, 16, 3, 2]                 \n",
      "  1                  -1  1      4672  ultralytics.nn.modules.conv.Conv             [16, 32, 3, 2]                \n",
      "  2                  -1  1      7360  ultralytics.nn.modules.block.C2f             [32, 32, 1, True]             \n",
      "  3                  -1  1     18560  ultralytics.nn.modules.conv.Conv             [32, 64, 3, 2]                \n",
      "  4                  -1  2     49664  ultralytics.nn.modules.block.C2f             [64, 64, 2, True]             \n",
      "  5                  -1  1     73984  ultralytics.nn.modules.conv.Conv             [64, 128, 3, 2]               \n",
      "  6                  -1  2    197632  ultralytics.nn.modules.block.C2f             [128, 128, 2, True]           \n",
      "  7                  -1  1    295424  ultralytics.nn.modules.conv.Conv             [128, 256, 3, 2]              \n",
      "  8                  -1  1    460288  ultralytics.nn.modules.block.C2f             [256, 256, 1, True]           \n",
      "  9                  -1  1    164608  ultralytics.nn.modules.block.SPPF            [256, 256, 5]                 \n",
      " 10                  -1  1         0  torch.nn.modules.upsampling.Upsample         [None, 2, 'nearest']          \n",
      " 11             [-1, 6]  1         0  ultralytics.nn.modules.conv.Concat           [1]                           \n",
      " 12                  -1  1    148224  ultralytics.nn.modules.block.C2f             [384, 128, 1]                 \n",
      " 13                  -1  1         0  torch.nn.modules.upsampling.Upsample         [None, 2, 'nearest']          \n",
      " 14             [-1, 4]  1         0  ultralytics.nn.modules.conv.Concat           [1]                           \n",
      " 15                  -1  1     37248  ultralytics.nn.modules.block.C2f             [192, 64, 1]                  \n",
      " 16                  -1  1     36992  ultralytics.nn.modules.conv.Conv             [64, 64, 3, 2]                \n",
      " 17            [-1, 12]  1         0  ultralytics.nn.modules.conv.Concat           [1]                           \n",
      " 18                  -1  1    123648  ultralytics.nn.modules.block.C2f             [192, 128, 1]                 \n",
      " 19                  -1  1    147712  ultralytics.nn.modules.conv.Conv             [128, 128, 3, 2]              \n",
      " 20             [-1, 9]  1         0  ultralytics.nn.modules.conv.Concat           [1]                           \n",
      " 21                  -1  1    493056  ultralytics.nn.modules.block.C2f             [384, 256, 1]                 \n",
      " 22        [15, 18, 21]  1    751507  ultralytics.nn.modules.head.Detect           [1, [64, 128, 256]]           \n",
      "Model summary: 225 layers, 3,011,043 parameters, 3,011,027 gradients, 8.2 GFLOPs\n",
      "\n",
      "Transferred 319/355 items from pretrained weights\n",
      "Freezing layer 'model.22.dfl.conv.weight'\n"
     ]
    },
    {
     "name": "stderr",
     "output_type": "stream",
     "text": [
      "\u001b[34m\u001b[1mtrain: \u001b[0mScanning D:\\Helper\\MLBazyak\\homework\\some_data\\face_rec_data\\face_det\\train\\labels... 699 images, 0 backgrounds, 0 corrupt: 100%|██████████| 699/699 [00:02<00:00, 310.11it/s]\n"
     ]
    },
    {
     "name": "stdout",
     "output_type": "stream",
     "text": [
      "\u001b[34m\u001b[1mtrain: \u001b[0mNew cache created: D:\\Helper\\MLBazyak\\homework\\some_data\\face_rec_data\\face_det\\train\\labels.cache\n"
     ]
    },
    {
     "name": "stderr",
     "output_type": "stream",
     "text": [
      "\u001b[34m\u001b[1mval: \u001b[0mScanning D:\\Helper\\MLBazyak\\homework\\some_data\\face_rec_data\\face_det\\valid\\labels... 150 images, 0 backgrounds, 0 corrupt: 100%|██████████| 150/150 [00:00<00:00, 321.16it/s]"
     ]
    },
    {
     "name": "stdout",
     "output_type": "stream",
     "text": [
      "\u001b[34m\u001b[1mval: \u001b[0mNew cache created: D:\\Helper\\MLBazyak\\homework\\some_data\\face_rec_data\\face_det\\valid\\labels.cache\n"
     ]
    },
    {
     "name": "stderr",
     "output_type": "stream",
     "text": [
      "\n"
     ]
    },
    {
     "name": "stdout",
     "output_type": "stream",
     "text": [
      "Plotting labels to runs\\detect\\face_detection_v1\\labels.jpg... \n",
      "\u001b[34m\u001b[1moptimizer:\u001b[0m 'optimizer=auto' found, ignoring 'lr0=0.01' and 'momentum=0.937' and determining best 'optimizer', 'lr0' and 'momentum' automatically... \n",
      "\u001b[34m\u001b[1moptimizer:\u001b[0m AdamW(lr=0.002, momentum=0.9) with parameter groups 57 weight(decay=0.0), 64 weight(decay=0.0005), 63 bias(decay=0.0)\n",
      "Image sizes 1024 train, 1024 val\n",
      "Using 0 dataloader workers\n",
      "Logging results to \u001b[1mruns\\detect\\face_detection_v1\u001b[0m\n",
      "Starting training for 2 epochs...\n",
      "\n",
      "      Epoch    GPU_mem   box_loss   cls_loss   dfl_loss  Instances       Size\n"
     ]
    },
    {
     "name": "stderr",
     "output_type": "stream",
     "text": [
      "        1/2         0G      1.152      2.371      1.854          9       1024: 100%|██████████| 88/88 [13:55<00:00,  9.49s/it]\n",
      "                 Class     Images  Instances      Box(P          R      mAP50  mAP50-95): 100%|██████████| 10/10 [01:10<00:00,  7.10s/it]"
     ]
    },
    {
     "name": "stdout",
     "output_type": "stream",
     "text": [
      "                   all        150        163      0.635      0.651      0.647      0.217\n"
     ]
    },
    {
     "name": "stderr",
     "output_type": "stream",
     "text": [
      "\n"
     ]
    },
    {
     "name": "stdout",
     "output_type": "stream",
     "text": [
      "\n",
      "      Epoch    GPU_mem   box_loss   cls_loss   dfl_loss  Instances       Size\n"
     ]
    },
    {
     "name": "stderr",
     "output_type": "stream",
     "text": [
      "        2/2         0G     0.9416      1.638      1.633          5       1024: 100%|██████████| 88/88 [12:45<00:00,  8.69s/it]\n",
      "                 Class     Images  Instances      Box(P          R      mAP50  mAP50-95): 100%|██████████| 10/10 [01:07<00:00,  6.76s/it]"
     ]
    },
    {
     "name": "stdout",
     "output_type": "stream",
     "text": [
      "                   all        150        163      0.901      0.895       0.96      0.608\n"
     ]
    },
    {
     "name": "stderr",
     "output_type": "stream",
     "text": [
      "\n"
     ]
    },
    {
     "name": "stdout",
     "output_type": "stream",
     "text": [
      "\n",
      "2 epochs completed in 0.483 hours.\n",
      "Optimizer stripped from runs\\detect\\face_detection_v1\\weights\\last.pt, 6.3MB\n",
      "Optimizer stripped from runs\\detect\\face_detection_v1\\weights\\best.pt, 6.3MB\n",
      "\n",
      "Validating runs\\detect\\face_detection_v1\\weights\\best.pt...\n",
      "Ultralytics 8.3.61  Python-3.11.9 torch-2.5.1+cpu CPU (11th Gen Intel Core(TM) i5-1135G7 2.40GHz)\n",
      "Model summary (fused): 168 layers, 3,005,843 parameters, 0 gradients, 8.1 GFLOPs\n"
     ]
    },
    {
     "name": "stderr",
     "output_type": "stream",
     "text": [
      "                 Class     Images  Instances      Box(P          R      mAP50  mAP50-95): 100%|██████████| 10/10 [01:02<00:00,  6.24s/it]\n"
     ]
    },
    {
     "name": "stdout",
     "output_type": "stream",
     "text": [
      "                   all        150        163      0.902      0.903      0.959      0.607\n",
      "Speed: 7.8ms preprocess, 310.6ms inference, 0.0ms loss, 60.4ms postprocess per image\n",
      "Results saved to \u001b[1mruns\\detect\\face_detection_v1\u001b[0m\n"
     ]
    }
   ],
   "source": [
    "# тестовое обучение\n",
    "results_test = model.train(\n",
    "    data = r'D:\\Helper\\MLBazyak\\homework\\face_recognition\\Module_2\\data.yaml',  # путь к yaml файлу\n",
    "    epochs=2,                                                                   # количество эпох\n",
    "    imgsz=1024,                                                                 # размер изображений в данных\n",
    "    batch=8,                                                                    # количество батчей\n",
    "    cos_lr=True,                                                                # косинусный планировщик кривой скорости обучении\n",
    "    lr0=0.01,                                                                   # скорость обучения\n",
    "    name='face_detection_v1'                                                    # название эксперимента\n",
    ")"
   ]
  },
  {
   "cell_type": "markdown",
   "metadata": {},
   "source": [
    "Тестирование модели"
   ]
  },
  {
   "cell_type": "code",
   "execution_count": 2,
   "metadata": {},
   "outputs": [],
   "source": [
    "model = YOLO(r'D:\\Helper\\MLBazyak\\homework\\face_recognition\\Module_2\\runs\\detect\\face_detection_v1\\weights\\best.pt')"
   ]
  },
  {
   "cell_type": "code",
   "execution_count": 11,
   "metadata": {},
   "outputs": [
    {
     "name": "stdout",
     "output_type": "stream",
     "text": [
      "\n",
      "image 1/1 D:\\Helper\\MLBazyak\\homework\\face_recognition\\Module_2\\test6.jpg: 1024x1024 1 price, 345.5ms\n",
      "Speed: 16.3ms preprocess, 345.5ms inference, 4.6ms postprocess per image at shape (1, 3, 1024, 1024)\n"
     ]
    }
   ],
   "source": [
    "# пути к фотографиям, на которых буду тестировать свою функцию\n",
    "photos = [\n",
    "    # r'D:\\Helper\\MLBazyak\\homework\\face_recognition\\Module_2\\test1.jpg',\n",
    "    # r'D:\\Helper\\MLBazyak\\homework\\face_recognition\\Module_2\\test2.jpg',\n",
    "    r'D:\\Helper\\MLBazyak\\homework\\face_recognition\\Module_2\\test6.jpg',\n",
    "]\n",
    "# прохожусь по каждой фотографии используя цикл for\n",
    "for photo in photos:\n",
    "    result_fin = model(photo)\n",
    "    for result in result_fin:\n",
    "        img = result.plot()  \n",
    "        img = Image.fromarray(img)  \n",
    "        img.show()  "
   ]
  },
  {
   "cell_type": "code",
   "execution_count": null,
   "metadata": {},
   "outputs": [],
   "source": []
  }
 ],
 "metadata": {
  "kernelspec": {
   "display_name": ".venv",
   "language": "python",
   "name": "python3"
  },
  "language_info": {
   "codemirror_mode": {
    "name": "ipython",
    "version": 3
   },
   "file_extension": ".py",
   "mimetype": "text/x-python",
   "name": "python",
   "nbconvert_exporter": "python",
   "pygments_lexer": "ipython3",
   "version": "3.11.9"
  }
 },
 "nbformat": 4,
 "nbformat_minor": 2
}
