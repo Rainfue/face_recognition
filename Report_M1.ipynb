{
 "cells": [
  {
   "cell_type": "markdown",
   "metadata": {},
   "source": [
    "# Модуль А. Анализ и предобработка данных"
   ]
  },
  {
   "cell_type": "markdown",
   "metadata": {},
   "source": [
    "## Импортирование библиотек"
   ]
  },
  {
   "cell_type": "code",
   "execution_count": 1,
   "metadata": {},
   "outputs": [],
   "source": [
    "# библиотека для разархивации данных\n",
    "import zipfile\n",
    "\n",
    "# библиотека для работы с данными\n",
    "import pandas as pd\n",
    "\n",
    "# библиотека для визуализации данных\n",
    "import matplotlib.pyplot as plt"
   ]
  },
  {
   "cell_type": "markdown",
   "metadata": {},
   "source": [
    "## Загрузка данных"
   ]
  },
  {
   "cell_type": "markdown",
   "metadata": {},
   "source": [
    "Для того чтобы начать работать с данными, надо разархивировать их из архива `archive.zip`"
   ]
  },
  {
   "cell_type": "code",
   "execution_count": 4,
   "metadata": {},
   "outputs": [],
   "source": [
    "path1_to_zip = r'D:\\Helper\\MLBazyak\\homework\\face_recognition\\data\\face_det\\archive.zip'  # путь к архиву для детектирования лиц\n",
    "path1_to_unzip = r'D:\\Helper\\MLBazyak\\homework\\face_recognition\\data\\face_det' # путь, куда будут разархивированы данные\n",
    "\n",
    "path2_to_zip = r'D:\\Helper\\MLBazyak\\homework\\face_recognition\\data\\face_ind\\archive.zip'  # путь к архиву для распознавания лиц\n",
    "path2_to_unzip = r'D:\\Helper\\MLBazyak\\homework\\face_recognition\\data\\face_ind' # путь, куда будут разархивированы данные\n",
    "\n",
    "with zipfile.ZipFile(path1_to_zip, 'r') as zip:   # открываем архив для детектирования лиц для чтения как zip\n",
    "    zip.extractall(path1_to_unzip)            # загружаем все данные \n",
    "\n",
    "with zipfile.ZipFile(path2_to_zip, 'r') as zip:   # открываем архив для распознавания лиц для чтения как zip\n",
    "    zip.extractall(path2_to_unzip)            # загружаем все данные "
   ]
  },
  {
   "cell_type": "markdown",
   "metadata": {},
   "source": [
    "После того, как все данные выгружены, можно начинать с ними работать"
   ]
  },
  {
   "cell_type": "markdown",
   "metadata": {},
   "source": [
    "## Датасет для детекции лиц"
   ]
  },
  {
   "cell_type": "markdown",
   "metadata": {},
   "source": [
    "**Структура данных в наборе:**\n",
    "\n",
    "\n",
    "└── face_ind/    \n",
    "\n",
    "        └── images/       # папка с фотографиями\n",
    "            └── train/           # тренировочный набор\n",
    "                └── 04013.png         # экземпляр фото\n",
    "                └── 04111.png\n",
    "                └── 04420.png\n",
    "                └── 04837.png\n",
    "                └── etc ...\n",
    "            \n",
    "        └── labels/       # папка с разметкой \n",
    "            └── train/           # тренировочный набор\n",
    "                └── 04013.txt         # экземляр разметки в формате YOLO (txt файл)\n",
    "                └── 04111.txt\n",
    "                └── 04420.txt\n",
    "                └── 04837.txt\n",
    "                └── etc ...\n",
    "        \n",
    "\n"
   ]
  },
  {
   "cell_type": "markdown",
   "metadata": {},
   "source": [
    "для просмотра разметки я буду использовать `YOLO Annotation Tool` \n",
    "\n",
    "чтобы приступить к работе с ним, надо перейти на [репозиторий с YAT](https://github.com/Rainfue/YAT), загрузить его как архив, и разахрхивировать его себе на компьютер"
   ]
  },
  {
   "cell_type": "markdown",
   "metadata": {},
   "source": [
    "*пример кода*\n",
    "```py\n",
    "with zipfile.ZipFile(r'C:\\Users\\user1\\Project\\face_recognition\\Module1\\YAT\\YAT-main.zip', 'r') as zip:\n",
    "    zip.extractall(r'C:\\Users\\user1\\Project\\face_recognition\\Module1\\YAT')\n",
    "```"
   ]
  },
  {
   "cell_type": "markdown",
   "metadata": {},
   "source": [
    "далее, надо запустить файл `Annotate.html` и приступить к работе"
   ]
  },
  {
   "cell_type": "markdown",
   "metadata": {},
   "source": [
    "для того чтобы просматривать разметку, надо создать  `.txt` файл с классами (у нас 1 класс, лицо)"
   ]
  },
  {
   "attachments": {
    "image.png": {
     "image/png": "[encoded data removed]"
    }
   },
   "cell_type": "markdown",
   "metadata": {},
   "source": [
    "*вот так выглядит `classes.txt`:*\n",
    "\n",
    "![image.png](attachment:image.png)"
   ]
  },
  {
   "cell_type": "markdown",
   "metadata": {},
   "source": [
    "после этого, можно загрузить `txt` файл с классами, `фотографии` и `разметку` к ним, для того чтобы начать просматривать датасет"
   ]
  },
  {
   "cell_type": "markdown",
   "metadata": {},
   "source": [
    "## Датасет для распознавания лиц"
   ]
  },
  {
   "cell_type": "markdown",
   "metadata": {},
   "source": [
    "**Структура данных в наборе:**\n",
    "\n",
    "└── face_ind/    \n",
    "\n",
    "    ├── lfw-deepfunneled/\n",
    "        └── lfw-deepfunneled/\n",
    "            └── Aaron_Eckhart/                           # имя человека\n",
    "                └── Aaron_Eckhart_0001.jpg               # экземпляр фото человека\n",
    "            └── Aaron_Guiel/  \n",
    "                └── Aaron_Guiel_0001.jpg                \n",
    "            └── Aaron_Patterson/\n",
    "                └── Aaron_Patterson_0001.jpg\n",
    "            └── etc ...\n",
    "            \n",
    "    ├── lfw_allnames.csv                                 # csv файл с подсчетом колва фотографий на имя\n",
    "    ├── lfw_readme.csv      \n",
    "    ├── matchpairsDevTest.csv      \n",
    "    ├── matchpairsDevTrain.csv      \n",
    "    ├── mismatchpairsDevTest.csv      \n",
    "    ├── mismatchpairsDevTrain.csv      \n",
    "    ├── pairs.csv      \n",
    "    ├── people.csv                                       # csv файл с подсчетом колва фотографий на имя   \n",
    "    ├── peopleDevTest.csv      \n",
    "    ├── peopleDevTrain.csv      \n",
    "    ├── archive.zip                                      # изначальный архив с данными\n"
   ]
  },
  {
   "cell_type": "markdown",
   "metadata": {},
   "source": [
    "загружаем `people.csv` как `DataFrame` используя библиотеку `pandas`, и вывожу первые 5 строчек"
   ]
  },
  {
   "cell_type": "code",
   "execution_count": null,
   "metadata": {},
   "outputs": [],
   "source": [
    "df1 = pd.read_csv(r'C:\\Users\\user1\\Project\\face_recognition\\Module1\\data\\people.csv', low_memory=False)\n",
    "df1['images'] = df1['images'].fillna(0)  # заменяю все отсутствующие данные на 0\n",
    "df1['images'] = df1['images'].astype(int)  # меняю тип данных на int\n",
    "df1.head()"
   ]
  },
  {
   "cell_type": "markdown",
   "metadata": {},
   "source": [
    "собрал все уникальные значения, удалил все повторения"
   ]
  },
  {
   "cell_type": "code",
   "execution_count": null,
   "metadata": {},
   "outputs": [],
   "source": [
    "plt.plot(list(set(df1['images'].values)))\n",
    "plt.show()"
   ]
  }
 ],
 "metadata": {
  "kernelspec": {
   "display_name": ".venv",
   "language": "python",
   "name": "python3"
  },
  "language_info": {
   "codemirror_mode": {
    "name": "ipython",
    "version": 3
   },
   "file_extension": ".py",
   "mimetype": "text/x-python",
   "name": "python",
   "nbconvert_exporter": "python",
   "pygments_lexer": "ipython3",
   "version": "3.11.9"
  }
 },
 "nbformat": 4,
 "nbformat_minor": 2
}
