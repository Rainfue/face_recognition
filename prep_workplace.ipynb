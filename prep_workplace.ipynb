{
 "cells": [
  {
   "cell_type": "markdown",
   "metadata": {},
   "source": [
    "# Вспомогательный файл для подготовки рабочего места на чемпионате"
   ]
  },
  {
   "cell_type": "markdown",
   "metadata": {},
   "source": [
    "## Программы"
   ]
  },
  {
   "cell_type": "markdown",
   "metadata": {},
   "source": [
    "- [Python3.9.11](https://www.python.org/downloads/release/python-3911/)\n",
    "- [VS Code](https://code.visualstudio.com/download)\n",
    "- [git](https://git-scm.com/downloads)\n",
    "- пакет офисный (если нет - [LibreOffice](https://www.libreoffice.org/download/download-libreoffice/))\n",
    "- [CUDA](https://developer.nvidia.com/cuda-toolkit)\n",
    "- [YAT](https://github.com/Rainfue/face_recognition.git)\n",
    "```bash \n",
    "git clone https://github.com/Rainfue/face_recognition.git\n",
    "```"
   ]
  },
  {
   "cell_type": "markdown",
   "metadata": {},
   "source": [
    "## Библиотеки"
   ]
  },
  {
   "cell_type": "markdown",
   "metadata": {},
   "source": [
    "**1. Базовые**\n",
    "- pandas \n",
    "- numpy\n",
    "```bash \n",
    "pip install pandas, numpy\n",
    "```"
   ]
  },
  {
   "cell_type": "markdown",
   "metadata": {},
   "source": [
    "**2. Для визуализации**\n",
    "- matplotlib\n",
    "- missingno\n",
    "- lossrider\n",
    "- seaborn\n",
    "- PIL\n",
    "- cv2\n",
    "```bash \n",
    "pip install matplotlib, missingno, lossrider, seaborn, opencv-python, pillow\n",
    "```"
   ]
  },
  {
   "cell_type": "markdown",
   "metadata": {},
   "source": [
    "**2. Для обучения модели**\n",
    "- ultralytics\n",
    "- torch\n",
    "- sklearn\n",
    "- easocr\n",
    "- keras\n",
    "```bash\n",
    "pip install ultralytics, torch, scikit-learn, easocr, keras\n",
    "```"
   ]
  },
  {
   "cell_type": "markdown",
   "metadata": {},
   "source": [
    "**3. API**\n",
    "- streamlit\n",
    "```bash\n",
    "pip install streamlit\n",
    "```"
   ]
  },
  {
   "cell_type": "markdown",
   "metadata": {},
   "source": [
    "## Скачиваем модели"
   ]
  },
  {
   "cell_type": "markdown",
   "metadata": {},
   "source": [
    "```py\n",
    "from ultralytics import YOLO\n",
    "\n",
    "model = YOLO('yolov8n.pt')\n",
    "```"
   ]
  }
 ],
 "metadata": {
  "kernelspec": {
   "display_name": "Python 3",
   "language": "python",
   "name": "python3"
  },
  "language_info": {
   "codemirror_mode": {
    "name": "ipython",
    "version": 3
   },
   "file_extension": ".py",
   "mimetype": "text/x-python",
   "name": "python",
   "nbconvert_exporter": "python",
   "pygments_lexer": "ipython3",
   "version": "3.11.9"
  }
 },
 "nbformat": 4,
 "nbformat_minor": 2
}
