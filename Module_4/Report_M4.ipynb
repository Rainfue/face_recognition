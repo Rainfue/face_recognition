{
 "cells": [
  {
   "cell_type": "markdown",
   "metadata": {},
   "source": [
    "# Презентация решения"
   ]
  },
  {
   "cell_type": "markdown",
   "metadata": {},
   "source": [
    "**В результате этого моделя, была подготовлена презентация реализованного мной проекта. Отражены следующие пункты:**\n",
    "- Информация о данных, которые использовались для обучения нейронной сети\n",
    "- какие алгоритмы и какой тип нейронной сети был выбран при разработке\n",
    "- документация к разработанному API\n",
    "- результаты тестирования нейронной сети"
   ]
  },
  {
   "cell_type": "markdown",
   "metadata": {},
   "source": [
    "*Презентация выполнена в формате `.pptx`, а также сохранена в формате `.pdf`*"
   ]
  },
  {
   "cell_type": "markdown",
   "metadata": {},
   "source": [
    "`После выполнения, презентация будет защищена перед экспертами`"
   ]
  },
  {
   "cell_type": "markdown",
   "metadata": {},
   "source": [
    "**Демонстрационное видео работы реализованного API:**\n",
    "\n",
    "![demo_gif](https://github.com/Rainfue/face_recognition/blob/main/Module_4/demo.gif?raw=true)\n",
    "\n",
    "*полное видео находится в файле `demo.mp4`"
   ]
  },
  {
   "cell_type": "markdown",
   "metadata": {},
   "source": []
  }
 ],
 "metadata": {
  "language_info": {
   "name": "python"
  }
 },
 "nbformat": 4,
 "nbformat_minor": 2
}
